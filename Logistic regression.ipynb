{
 "cells": [
  {
   "cell_type": "code",
   "execution_count": 279,
   "metadata": {},
   "outputs": [],
   "source": [
    "import pandas as pd\n",
    "import numpy as np\n",
    "from sklearn.datasets import make_classification\n",
    "import matplotlib.pyplot as plt\n",
    "import matplotlib\n",
    "%matplotlib inline"
   ]
  },
  {
   "cell_type": "code",
   "execution_count": 273,
   "metadata": {},
   "outputs": [],
   "source": [
    "class LogReg():\n",
    "    \"\"\"\n",
    "    Implementation of binary logistic regression\n",
    "    \"\"\"\n",
    "    \n",
    "    def __init__(self,dataframe,y_column):\n",
    "        \"\"\"\n",
    "        Initialize LogReg class with a pandas dataframe and the name of the dependent variable column, y.\n",
    "        All other variable will be assumed to be independent variables, x.\n",
    "        \"\"\"\n",
    "        import pandas as pd\n",
    "        import numpy as np\n",
    "        self.y = dataframe[y_column].to_numpy()\n",
    "        self.x = dataframe.drop(y_column,axis=1).to_numpy()\n",
    "        self.weights = np.random.uniform(low=0.1, high=0.9, size=(1,self.x.shape[1]))[0]\n",
    "        self.bias = np.random.uniform(low=0.1, high=0.9, size=(1))[0]\n",
    "        self.standardize()\n",
    "            \n",
    "    def standardize(self):\n",
    "        self.transformations = {k:[] for k in range(self.x.shape[1])}\n",
    "        for i in range(self.x.shape[1]):\n",
    "            self.transformations[i].append(np.max(self.x[:,i]))\n",
    "            self.transformations[i].append(np.min(self.x[:,i]))\n",
    "                \n",
    "        for row_idx,row in enumerate(self.x):\n",
    "            for idx,element in enumerate(row):\n",
    "                self.x[row_idx,idx] = (element - self.transformations[idx][1])/(self.transformations[idx][0] - self.transformations[idx][1]) \n",
    "        \n",
    "        \n",
    "    def forward(self,row):\n",
    "        \"\"\"\n",
    "        Produce a predicted y-value given a row (vector of x values).\n",
    "        The prediction is the dot product of weights and vector x added to the bias.\n",
    "        \"\"\"\n",
    "        x_vars = self.x[row]\n",
    "        z = np.dot(x_vars,self.weights) + self.bias\n",
    "        y_pred = 1/(1 + np.exp(-z))\n",
    "        return y_pred\n",
    "    \n",
    "    def loss(self,row):\n",
    "        \"\"\"\n",
    "        Standard logistic regression loss function. \n",
    "        \n",
    "        When y is 1, the loss function evaluates to the natural log of y_pred.\n",
    "            When y_pred is near 1, ln(1) will assign a loss near 0.\n",
    "            When y_pred is near 0, ln(0) will assign a penalty >0.\n",
    "            \n",
    "        When y is 0, the loss function evaluates to natural log of (1-y_pred)\n",
    "            When y_pred is near 0, ln(1-0) will assign a penalty near 0.\n",
    "            When y_pred is near 1, ln(1-0) will assign a penalty >0.    \n",
    "            \n",
    "        \"\"\"\n",
    "        y_pred = self.forward(row)\n",
    "        y_true = self.y[row]\n",
    "        loss = -1*(y_true*np.log(y_pred) + (1-y_true)*np.log(1-y_pred))\n",
    "        return loss\n",
    "        \n",
    "    def cost(self):\n",
    "        \"\"\"\n",
    "        Cost function finds average loss function applied to all rows.\n",
    "        \"\"\"\n",
    "        return sum([self.loss(row) for row in range(self.x.shape[0])])/self.x.shape[0]\n",
    "    \n",
    "    def gradient_loss_y_pred(self,row):\n",
    "        \"\"\"\n",
    "        Function that returns the gradient of the loss function with respect to y_pred\n",
    "        \"\"\"\n",
    "        y_true = self.y[row]\n",
    "        y_pred = self.forward(row)\n",
    "        return -1*y_true/y_pred + (1-y_true)/(1-y_pred)\n",
    "    \n",
    "    def gradient_y_pred_z(self,row):\n",
    "        \"\"\"\n",
    "        Function that returns the gradient of y_pred with respect to z (dot product(weights.X) + bias)\n",
    "        \"\"\"\n",
    "        y_pred = self.forward(row)\n",
    "        return y_pred*(1-y_pred)\n",
    "    \n",
    "    def gradient_z_w(self,row):\n",
    "        \"\"\"\n",
    "        Function that returns the gradient of z with respect to weights. Note, this is not the dot product;\n",
    "        each weight will be multiplied by its corresponding x-value, but not summed.\n",
    "        \"\"\"\n",
    "        return self.weights * self.x[row]\n",
    "    \n",
    "    def gradient_weights(self,row):\n",
    "        \"\"\"\n",
    "        Function that returs the gradient of loss with respect to weights by stringing together the above 3 gradients\n",
    "        by observing the chain rule.\n",
    "        \"\"\"\n",
    "        return self.gradient_loss_y_pred(row)*self.gradient_y_pred_z(row)*self.gradient_z_w(row)\n",
    "    \n",
    "    def gradient_bias(self,row):\n",
    "        \"\"\"\n",
    "        Function that returns the gradient of loss with respect to bias by observing the chain rule, similar to above.\n",
    "        Note, the gradient of z with respect to bias evaluates to 1; thus there are only 2 functions to determine the\n",
    "        this gradient\n",
    "        \"\"\"\n",
    "        return self.gradient_loss_y_pred(row)*self.gradient_y_pred_z(row)\n",
    "    \n",
    "    def train_model(self, iterations, lr):\n",
    "        \"\"\"\n",
    "        Function that trains the LogReg model via gradient descent. Given a number of iterations and a learning rate,\n",
    "        this function will begin an epoch (iteration), initialize weight and bias gradients to zero, iterate through\n",
    "        rows in training data. Once all rows have been operated on, the gradients will be applied to the weights\n",
    "        and biases according to the learning rate specified.\n",
    "        \"\"\"\n",
    "        for epoch in range(iterations):\n",
    "            d_w = np.zeros_like(self.weights)\n",
    "            d_b = 0.0\n",
    "\n",
    "            for i in range(self.x.shape[0]):\n",
    "                d_w += self.gradient_weights(i)\n",
    "                d_b += self.gradient_bias(i)\n",
    "            d_w = d_w/self.x.shape[0]\n",
    "            d_b = d_b/self.x.shape[0]\n",
    "            \n",
    "            self.weights -= lr*d_w\n",
    "            self.bias -= lr*d_b\n",
    "            if epoch % 50 == 0:\n",
    "                print(self.cost())\n",
    "            \n",
    "    def predict(self,row):\n",
    "        for idx,element in enumerate(row):\n",
    "            row[idx] = (element - self.transformations[idx][1])/(self.transformations[idx][0] - self.transformations[idx][1]) \n",
    "        \n",
    "        z = np.dot(row,self.weights) + self.bias\n",
    "        y_pred = 1/(1 + np.exp(-z))\n",
    "        if y_pred >= 0.5:\n",
    "            return 1\n",
    "        else:\n",
    "            return 0\n",
    "        \n",
    "    def predict_prob(self,row):\n",
    "        for idx,element in enumerate(row):\n",
    "            row[idx] = (element - self.transformations[idx][1])/(self.transformations[idx][0] - self.transformations[idx][1]) \n",
    "        \n",
    "        z = np.dot(row,self.weights) + self.bias\n",
    "        y_pred = 1/(1 + np.exp(-z))\n",
    "        return y_pred"
   ]
  },
  {
   "cell_type": "code",
   "execution_count": 264,
   "metadata": {},
   "outputs": [],
   "source": [
    "X,Y = make_classification(n_samples=500, n_features=2, n_informative=2, n_redundant=0, n_repeated=0, \n",
    "                          n_classes=2, n_clusters_per_class=1, weights=None, flip_y=0, class_sep=30.0,\n",
    "                          hypercube=False,shift=5.0, scale=2.0, shuffle=True,random_state=1)"
   ]
  },
  {
   "cell_type": "code",
   "execution_count": 280,
   "metadata": {},
   "outputs": [
    {
     "data": {
      "text/plain": [
       "<matplotlib.collections.PathCollection at 0x1a2ac1ac50>"
      ]
     },
     "execution_count": 280,
     "metadata": {},
     "output_type": "execute_result"
    },
    {
     "data": {
      "image/png": "[encoded data removed]",
      "text/plain": [
       "<Figure size 432x288 with 1 Axes>"
      ]
     },
     "metadata": {
      "needs_background": "light"
     },
     "output_type": "display_data"
    }
   ],
   "source": [
    "colors=['red','blue']\n",
    "plt.scatter(x=X[:,0],y=X[:,1],c=Y,cmap=matplotlib.colors.ListedColormap(colors))"
   ]
  },
  {
   "cell_type": "code",
   "execution_count": 268,
   "metadata": {},
   "outputs": [],
   "source": [
    "d = {'x1':X[:,0],'x2':X[:,1],'y':Y}\n",
    "data= pd.DataFrame(d)\n",
    "train = data.iloc[:250]\n",
    "test = data.iloc[250:]"
   ]
  },
  {
   "cell_type": "code",
   "execution_count": 274,
   "metadata": {},
   "outputs": [],
   "source": [
    "model = LogReg(dataframe=train,y_column='y')"
   ]
  },
  {
   "cell_type": "code",
   "execution_count": 275,
   "metadata": {},
   "outputs": [
    {
     "name": "stdout",
     "output_type": "stream",
     "text": [
      "0.7124505285748574\n",
      "0.672493235939779\n",
      "0.6573404776470541\n",
      "0.6475494882820294\n",
      "0.638500804939089\n",
      "0.6291703356855817\n",
      "0.6193900661133874\n",
      "0.609203285758757\n",
      "0.5987113767343238\n",
      "0.5880339245805198\n",
      "0.5772943544097057\n",
      "0.566611576816591\n",
      "0.5560939140911036\n",
      "0.5458348985514719\n",
      "0.5359109450887402\n",
      "0.5263807282162867\n",
      "0.5172859117414162\n",
      "0.5086528029750086\n",
      "0.5004945230797833\n",
      "0.4928133608111363\n",
      "0.48560307159592847\n",
      "0.4788509733097111\n",
      "0.472539762361227\n",
      "0.46664902568514355\n",
      "0.46115645782075043\n",
      "0.4560388112952569\n",
      "0.45127261720675893\n",
      "0.44683471482678616\n",
      "0.44270262698574825\n",
      "0.43885481391195763\n",
      "0.4352708333313501\n",
      "0.4319314297595455\n",
      "0.4288185714399495\n",
      "0.42591544948475407\n",
      "0.4232064505070528\n",
      "0.42067711136315306\n",
      "0.4183140624889265\n",
      "0.41610496463381313\n",
      "0.4140384424920521\n",
      "0.4121040177307072\n"
     ]
    }
   ],
   "source": [
    "model.train_model(iterations=2000,lr=0.05)"
   ]
  },
  {
   "cell_type": "code",
   "execution_count": 278,
   "metadata": {},
   "outputs": [
    {
     "name": "stdout",
     "output_type": "stream",
     "text": [
      "accuracy: 0.868\n"
     ]
    }
   ],
   "source": [
    "score = 0\n",
    "count = 0\n",
    "test_probs = []\n",
    "for idx,row in test.iterrows():\n",
    "    x_vars = row[:-1]\n",
    "    y_true = row[-1]\n",
    "    y_pred = model.predict(x_vars)\n",
    "    if y_pred == y_true:\n",
    "        score+=1\n",
    "    test_probs.append(model.predict_prob(x_vars))\n",
    "    count +=1\n",
    "print(f\"accuracy: {score/count}\")"
   ]
  },
  {
   "cell_type": "code",
   "execution_count": null,
   "metadata": {},
   "outputs": [],
   "source": []
  }
 ],
 "metadata": {
  "kernelspec": {
   "display_name": "Python 3",
   "language": "python",
   "name": "python3"
  },
  "language_info": {
   "codemirror_mode": {
    "name": "ipython",
    "version": 3
   },
   "file_extension": ".py",
   "mimetype": "text/x-python",
   "name": "python",
   "nbconvert_exporter": "python",
   "pygments_lexer": "ipython3",
   "version": "3.7.4"
  }
 },
 "nbformat": 4,
 "nbformat_minor": 2
}
